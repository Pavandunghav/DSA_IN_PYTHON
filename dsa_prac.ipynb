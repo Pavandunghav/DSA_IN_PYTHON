{
 "cells": [
  {
   "cell_type": "code",
   "execution_count": 19,
   "metadata": {},
   "outputs": [],
   "source": [
    "###LinkedList\n",
    "\n",
    "\n",
    "#Creating a node \n",
    "\n",
    "\n",
    "class node :\n",
    "    \n",
    "    def __init__(self,value):\n",
    "        self.data=value\n",
    "        self.next=None\n",
    "        \n",
    "class LinkedList:\n",
    "    \n",
    "    def __init__(self):\n",
    "        self.head=None\n",
    "        self.count=0\n",
    "        \n",
    "    def insert_head(self,value):\n",
    "        new_node=node(value)\n",
    "       \n",
    "        new_node.next=self.head\n",
    "        self.head=new_node\n",
    "        self.count+=1\n",
    "        \n",
    "        \n",
    "    def insert_tail(self,value):\n",
    "        \n",
    "        current=self.head \n",
    "        new_node=node(value)\n",
    "        nee_node.next=None\n",
    "        \n",
    "        \n",
    "        ##If its a blank LinkedList\n",
    "        \n",
    "        if current==None:\n",
    "            self.head=new_node \n",
    "            self.count+=1\n",
    "            return\n",
    "            \n",
    "        \n",
    "        while current.next!= None:\n",
    "            \n",
    "            current=current.next\n",
    "        \n",
    "        current.next=new_node\n",
    "        \n",
    "        self.count+=1\n",
    "        \n",
    "        \n",
    "    def insert_middle(self,after,value):\n",
    "        \n",
    "        current=self.head\n",
    "        \n",
    "        \n",
    "        new_node=node(value)\n",
    "        \n",
    "        while current!=None:\n",
    "            \n",
    "            if current.data==after:\n",
    "                new_node.next=current.next\n",
    "                current.next=new_node \n",
    "                self.count+=1\n",
    "                return\n",
    "                \n",
    "            current=current.next\n",
    "         \n",
    "        \n",
    "    def traverse(self):\n",
    "        \n",
    "        current=self.head\n",
    "        while current !=None:\n",
    "            \n",
    "            print(f\"{current.data}\",end=\" \")\n",
    "                  \n",
    "            if current.next!=None:\n",
    "               print(\"->\",end=\" \")\n",
    "            \n",
    "            current=current.next\n",
    "            \n",
    "            \n",
    "        \n"
   ]
  },
  {
   "cell_type": "code",
   "execution_count": 20,
   "metadata": {},
   "outputs": [],
   "source": [
    "l1=LinkedList()\n",
    "\n",
    "\n",
    "\n",
    "for i in range(0,10):\n",
    "    l1.insert_head(i)\n",
    "    \n",
    "    \n",
    "    \n",
    "\n"
   ]
  },
  {
   "cell_type": "code",
   "execution_count": 21,
   "metadata": {},
   "outputs": [
    {
     "name": "stdout",
     "output_type": "stream",
     "text": [
      "None\n"
     ]
    }
   ],
   "source": [
    "print(l1.traverse())"
   ]
  },
  {
   "cell_type": "code",
   "execution_count": null,
   "metadata": {},
   "outputs": [],
   "source": []
  }
 ],
 "metadata": {
  "kernelspec": {
   "display_name": "Python 3",
   "language": "python",
   "name": "python3"
  },
  "language_info": {
   "codemirror_mode": {
    "name": "ipython",
    "version": 3
   },
   "file_extension": ".py",
   "mimetype": "text/x-python",
   "name": "python",
   "nbconvert_exporter": "python",
   "pygments_lexer": "ipython3",
   "version": "3.10.1"
  }
 },
 "nbformat": 4,
 "nbformat_minor": 2
}
