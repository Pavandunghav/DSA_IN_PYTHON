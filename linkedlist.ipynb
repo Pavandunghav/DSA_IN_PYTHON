{
 "cells": [
  {
   "cell_type": "markdown",
   "metadata": {},
   "source": [
    "###LinkedList\n",
    "\n",
    "\n"
   ]
  },
  {
   "cell_type": "code",
   "execution_count": 28,
   "metadata": {},
   "outputs": [],
   "source": [
    "##Creating a class for the  node\n",
    "\n",
    "class node:\n",
    "    \n",
    "    def __init__(self,value):\n",
    "        self.data=value\n",
    "        self.next=None\n",
    "        \n",
    "\n",
    "\n"
   ]
  },
  {
   "cell_type": "code",
   "execution_count": 29,
   "metadata": {},
   "outputs": [
    {
     "name": "stdout",
     "output_type": "stream",
     "text": [
      "10 \n",
      "None\n",
      "10 \n",
      "<__main__.node object at 0x0000023AD12A3E80>\n"
     ]
    }
   ],
   "source": [
    "##create a object for node \n",
    "##Building a LL manualy \n",
    "\n",
    "\n",
    "\n",
    "a=node(10)\n",
    "b=node(20)\n",
    "c=node(30)\n",
    "\n",
    "print(f\"{a.data} \\n{a.next}\")\n",
    "\n",
    "\n",
    "a.next=b\n",
    "b.next=c\n",
    "\n",
    "\n",
    "\n",
    "print(f\"{a.data} \\n{a.next}\")\n"
   ]
  },
  {
   "cell_type": "code",
   "execution_count": 30,
   "metadata": {},
   "outputs": [],
   "source": [
    "##Creating a class for the  node\n",
    "\n",
    "class node:\n",
    "    \n",
    "    def __init__(self,value):\n",
    "        self.data=value\n",
    "        self.next=None\n",
    "        \n"
   ]
  },
  {
   "cell_type": "code",
   "execution_count": 31,
   "metadata": {},
   "outputs": [],
   "source": [
    "class LinkedList:\n",
    "    \n",
    "    def __init__(self):\n",
    "        self.head=None\n",
    "        self.count=0\n",
    "        \n",
    "        \n",
    "    def __len__(self):\n",
    "        return self.count\n",
    "        \n",
    "    ##Insertion from head \n",
    "    def insert_head(self,value):\n",
    "        new_node=node(value)#Creating a new node \n",
    "        #Building the connection\n",
    "        \n",
    "        new_node.next=self.head\n",
    "        #reassign thw head \n",
    "        self.head=new_node\n",
    "        \n",
    "        self.count+=1\n",
    "        \n",
    "        \n",
    "    ##insertion from tail \n",
    "    def insert_tail(self,value):\n",
    "        current=self.head\n",
    "        new_node=node(value)\n",
    "        new_node.next=None\n",
    "\n",
    "        \n",
    "        #Reaching to  tail \n",
    "        while(current.next !=None):\n",
    "            current=current.next\n",
    "        \n",
    "        current.next=new_node\n",
    "        \n",
    "            \n",
    "    ##Insertion in middle \n",
    "    \n",
    "    def insert_after(self,after,value) :\n",
    "        \n",
    "        new_node=node(value)\n",
    "        \n",
    "        current=self.head\n",
    "        while current!=None:\n",
    "            \n",
    "            if current.data==after:\n",
    "                break \n",
    "            \n",
    "            current=current.next\n",
    "            \n",
    "        if current!=none:\n",
    "            \n",
    "            new_node.next=current.next\n",
    "            current.next=new_node\n",
    "        else:\n",
    "            print(\"Item not found\")\n",
    "            \n",
    "            \n",
    "        \n",
    "        \n",
    "    ##Traversing \n",
    "    def  traverse(self):\n",
    "        \n",
    "        current=self.head\n",
    "        \n",
    "        while current != None:\n",
    "            print(f\"{current.data}\",end=\" \")\n",
    "            \n",
    "            current=current.next\n",
    "            if current!=None:\n",
    "                print(\"->\",end=\"  \")\n",
    "        \n",
    "        \n",
    "\n",
    "        \n",
    "    "
   ]
  },
  {
   "cell_type": "code",
   "execution_count": 32,
   "metadata": {},
   "outputs": [
    {
     "name": "stdout",
     "output_type": "stream",
     "text": [
      "None \n",
      "0 "
     ]
    },
    {
     "data": {
      "text/plain": [
       "0"
      ]
     },
     "execution_count": 32,
     "metadata": {},
     "output_type": "execute_result"
    }
   ],
   "source": [
    "l1=LinkedList()\n",
    "print(f\"{l1.head} \\n{l1.count}\",end=\" \")\n",
    "len(l1)"
   ]
  },
  {
   "cell_type": "markdown",
   "metadata": {},
   "source": [
    "#Insertion in LinkedList"
   ]
  },
  {
   "cell_type": "code",
   "execution_count": 33,
   "metadata": {},
   "outputs": [],
   "source": [
    "for i in range(10):\n",
    "\n",
    "  l1.insert_head(i)\n",
    "  \n",
    "\n",
    "\n",
    "for i in range(10,20):\n",
    "  l1.insert_tail(i)\n",
    "  \n",
    "l1.insert_after(0,100)\n"
   ]
  },
  {
   "cell_type": "code",
   "execution_count": 34,
   "metadata": {},
   "outputs": [
    {
     "data": {
      "text/plain": [
       "(10, 10)"
      ]
     },
     "execution_count": 34,
     "metadata": {},
     "output_type": "execute_result"
    }
   ],
   "source": [
    "##Counting no. of nodes in the list \n",
    "l1.count,len(l1)"
   ]
  },
  {
   "cell_type": "code",
   "execution_count": 35,
   "metadata": {},
   "outputs": [
    {
     "name": "stdout",
     "output_type": "stream",
     "text": [
      "9 ->  8 ->  7 ->  6 ->  5 ->  4 ->  3 ->  2 ->  1 ->  0 ->  100 ->  10 ->  11 ->  12 ->  13 ->  14 ->  15 ->  16 ->  17 ->  18 ->  19 "
     ]
    }
   ],
   "source": [
    "##TraversingtheLinkedlist\n",
    "\n",
    "l1.traverse()"
   ]
  },
  {
   "cell_type": "code",
   "execution_count": 135,
   "metadata": {},
   "outputs": [],
   "source": []
  }
 ],
 "metadata": {
  "kernelspec": {
   "display_name": "Python 3",
   "language": "python",
   "name": "python3"
  },
  "language_info": {
   "codemirror_mode": {
    "name": "ipython",
    "version": 3
   },
   "file_extension": ".py",
   "mimetype": "text/x-python",
   "name": "python",
   "nbconvert_exporter": "python",
   "pygments_lexer": "ipython3",
   "version": "3.10.1"
  }
 },
 "nbformat": 4,
 "nbformat_minor": 2
}
